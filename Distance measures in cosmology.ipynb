{
 "cells": [
  {
   "cell_type": "markdown",
   "id": "59852f7f",
   "metadata": {},
   "source": [
    "***Distance measures in cosmology by David W. Hogg***\n",
    "\n",
    " - formulae for many different cosmological distance measures are provided\n",
    " "
   ]
  },
  {
   "cell_type": "code",
   "execution_count": 1,
   "id": "f175ebd9",
   "metadata": {},
   "outputs": [],
   "source": [
    "import astropy.io.fits as fits\n",
    "from os import system\n",
    "import os\n",
    "import subprocess\n",
    "import matplotlib.pyplot as plt\n",
    "import numpy as np\n",
    "import scipy.special\n",
    "import scipy.integrate as si \n",
    "import healpy as hp\n",
    "from math import sqrt, cos, sin, tan, pi, acos, asin, atan, sinh, pow, log, asinh\n",
    "import numpy.fft as fft\n",
    "import time\n",
    "import numpy.random as ran\n",
    "from astropy import units, cosmology\n",
    "from astropy import constants as const\n",
    "from astropy import units, cosmology\n",
    "from astropy.cosmology import default_cosmology\n",
    "from astropy.cosmology import FlatLambdaCDM\n",
    "#from astropy.cosmology import WMAP9 as cosmo"
   ]
  },
  {
   "cell_type": "code",
   "execution_count": 2,
   "id": "5cf34eb8",
   "metadata": {},
   "outputs": [
    {
     "name": "stdout",
     "output_type": "stream",
     "text": [
      "299792.458 km / s\n",
      "  Name   = Gravitational constant\n",
      "  Value  = 6.6743e-11\n",
      "  Uncertainty  = 1.5e-15\n",
      "  Unit  = m3 / (kg s2)\n",
      "  Reference = CODATA 2018\n",
      "  Name   = Kiloparsec\n",
      "  Value  = 3.0856775814913675e+19\n",
      "  Uncertainty  = 0.0\n",
      "  Unit  = m\n",
      "  Reference = Derived from au + IAU 2015 Resolution B 2 note [4]\n",
      "  Name   = Solar mass\n",
      "  Value  = 1.988409870698051e+30\n",
      "  Uncertainty  = 4.468805426856864e+25\n",
      "  Unit  = kg\n",
      "  Reference = IAU 2015 Resolution B 3 + CODATA 2018\n"
     ]
    }
   ],
   "source": [
    "#H0 = 70. #presente day Hubble rate (h.km.s^-1.mpc-1)\n",
    "#c = 2.99792458E5 # speed of light (km/s)\n",
    "#G = 6.67428E-11 #gravitational constant (m^3.s^-2.kg^-1)\n",
    "c = const.c.to('km/s')\n",
    "print(c)\n",
    "G = const.G\n",
    "print(G)\n",
    "kiloparsec = const.kpc #3.08567758149E19 #kiloparsec (m)\n",
    "print(kiloparsec)\n",
    "megaparsec = 3.08567758149E22 #megaparsec (m)\n",
    "# H0 = 100 * h # (km s^-1 Mpc^-1)\n",
    "#solar_mass = 2E30 #heliocentric_gravit_const/gravit_const_SI #solar mass (kg)\n",
    "solar_mass = const.M_sun\n",
    "print(solar_mass)"
   ]
  },
  {
   "cell_type": "markdown",
   "id": "696831fc",
   "metadata": {},
   "source": [
    "***Cosmological Parameters***\n",
    "\n",
    "Hubble constant $H_0$ is the ratio between Recession speed(v) and distance(d) in the expanding Universe. (“0” refers to the present epoch)\n",
    "\n",
    "\\begin{equation}\n",
    "v = H_0 d  \n",
    "\\end{equation}\n",
    "\n",
    "Hubble time $t_H$ is the inverse of the Hubble constant $H_0$.\n",
    "\n",
    "\\begin{equation}\n",
    "t_H = 1 / H_0  \n",
    "\\end{equation}\n",
    "\n",
    "Hubble distance $D_H$ is the the speed of light (c) times the Hubble time ($t_H$)\n",
    "\n",
    "\\begin{equation}\n",
    "D_H = c / H_0  \n",
    "\\end{equation}\n",
    "\n",
    "Dimensionless density parameters:\n",
    "\n",
    "\\begin{equation}\n",
    "\\Omega_{\\Lambda} = \\frac{\\Lambda c^2} {3 H_0^2 }\n",
    "\\end{equation}\n",
    "\n",
    "\\begin{equation}\n",
    "\\Omega_m = \\frac{8 \\pi G \\rho_0}{3 H_0^2}\n",
    "\\end{equation}\n",
    "\n",
    "A third density parameter $\\Omega_k$ measures the “curvature of space”\n",
    "\\begin{equation}\n",
    "\\Omega_m + \\Omega_{\\Lambda} + \\Omega_k = 1\n",
    "\\end{equation}\n",
    "\n",
    "If $\\Omega_{\\Lambda}$ = 0, then the deceleration parameter $q_0$ is just half $\\Omega_m $, otherwise $q_0$ is not such a useful parameter."
   ]
  },
  {
   "cell_type": "code",
   "execution_count": 3,
   "id": "4a3094a7",
   "metadata": {},
   "outputs": [
    {
     "name": "stdout",
     "output_type": "stream",
     "text": [
      "FlatLambdaCDM(H0=70 km / (Mpc s), Om0=0.3, Tcmb0=2.725 K, Neff=3.04, m_nu=[0. 0. 0.] eV, Ob0=None)\n",
      "hubble distance in Km:  1.3215183810725603e+23 km\n",
      "hubble time in years:  13968460309.72556 yr\n"
     ]
    }
   ],
   "source": [
    "#cosmo = default_cosmology.get()\n",
    "cosmo = FlatLambdaCDM(H0=70, Om0=0.3, Tcmb0=2.725)\n",
    "print(cosmo)\n",
    "Omega_m0 = cosmo.Om0\n",
    "Omega_Lambda0 = cosmo.Ode0\n",
    "#print(Omega_Lambda0)\n",
    "#cosmo.kpc_proper_per_arcmin(3)  \n",
    "\n",
    "Omega_k0 =  0\n",
    "H0 = cosmo.H(0) #at z = 0\n",
    "#H0.value, H0.unit  \n",
    "#H0 = 67.7 # km / (Mpc s)\n",
    "#mpc2km = 3.086E+19\n",
    "#km2mpc = 3.24078e-20\n",
    "h = H0/100\n",
    "D_H = (c/H0).to(units.km) #hubble distante in km\n",
    "t_H = (1 / H0) #hubble time in seconds\n",
    "print('hubble distance in Km: ', D_H)\n",
    "#print('hubble time in seconds: ', t_H.to(units.s))\n",
    "print('hubble time in years: ', t_H.to(units.yr))\n",
    "\n",
    "def set_model(model = 'Einstein–de-Sitter'):\n",
    "    global Omega_m0\n",
    "    global Omega_Lambda0\n",
    "    global Omega_k0\n",
    "    if (model == 'Einstein–de-Sitter'):\n",
    "        Omega_m0 = 1\n",
    "        Omega_Lambda0 = 0\n",
    "        Omega_k0= 1 - Omega_m0 - Omega_Lambda0\n",
    "    if (model == 'low-density'):\n",
    "        Omega_m0 = 0.05\n",
    "        Omega_Lambda0 = 0\n",
    "        Omega_k0= 1 - Omega_m0 - Omega_Lambda0\n",
    "    if (model == 'high-lambda'):\n",
    "        Omega_m0 = 0.2\n",
    "        Omega_Lambda0 = 0.8\n",
    "        Omega_k0= 1 - Omega_m0 - Omega_Lambda0\n"
   ]
  },
  {
   "cell_type": "markdown",
   "id": "a8c438a2",
   "metadata": {},
   "source": [
    "***Cosmological constant Lamba ($\\Lambda$)***\n",
    " - From Equation (6)\n",
    "\n",
    "\\begin{equation}\n",
    "\\Lambda = \\frac{3 H_0^2 \\Omega_{\\Lambda}}{c^2}  \n",
    "\\end{equation}\n"
   ]
  },
  {
   "cell_type": "code",
   "execution_count": 4,
   "id": "a492b5b9",
   "metadata": {},
   "outputs": [
    {
     "name": "stdout",
     "output_type": "stream",
     "text": [
      "1.1447774726145685e-07 1 / Mpc2\n"
     ]
    }
   ],
   "source": [
    "#cosmological constant Lamba\n",
    "Lambda= 3 * ((H0/c) ** 2) * Omega_Lambda0\n",
    "print(Lambda)\n"
   ]
  },
  {
   "cell_type": "markdown",
   "id": "79a60a54",
   "metadata": {},
   "source": [
    "**Mass Density of University ($\\rho_0$)**\n",
    " - From Equation (5)\n",
    "\n",
    "\\begin{equation}\n",
    "\\rho_0 = \\frac{3 H_0^2 \\Omega_m}{8 \\pi G}  \n",
    "\\end{equation}\n",
    "\n"
   ]
  },
  {
   "cell_type": "code",
   "execution_count": 5,
   "id": "7383fc2e",
   "metadata": {},
   "outputs": [
    {
     "name": "stdout",
     "output_type": "stream",
     "text": [
      "2629014649608.4175 kg km2 / (m3 Mpc2)\n"
     ]
    }
   ],
   "source": [
    "#mass density of universe\n",
    "rho_0 =  3 * (H0**2) * Omega_m0 / (8 * np.pi * G)\n",
    "#rho_0 = rho_0 * 1.0503e-39  # in kg/m^3\n",
    "print(rho_0)\n"
   ]
  },
  {
   "cell_type": "markdown",
   "id": "ff7ff9ab",
   "metadata": {},
   "source": [
    "**Redshift (z)**\n",
    "\n",
    "Redshift of an object is the ratio fractional doppler shift of its emitted light resulting from radial motion:\n",
    "\n",
    "\\begin{equation}\n",
    " z \\equiv \\frac{v_e}{v_o} - 1 = \\frac{\\lambda_o}{\\lambda_e} - 1 \n",
    "\\end{equation}\n",
    "\n",
    "$v_o$ & $\\lambda_o$ are the observed frequency ane wavelength and $v_e$ & $\\lambda_e$ are emitted.\n",
    "\n",
    "In Special relativity:\n",
    "\\begin{equation}\n",
    " 1+z = \\sqrt{\\frac{1 + \\frac{v}{c}}{1 - \\frac{v}{c}}}\n",
    "\\end{equation}\n",
    "\n",
    "NOTE: redshift is directly observable and radial velocity is not.\n",
    "\n",
    "The difference between an object’s measured redshift $z_{obs}$ and its cosmological redshift $z_{cos}$ is due to its (radial) peculiar velocity $v_{pec}$.\n",
    "\n",
    "Peculiar Velocity (derived from above equation by taking derivative):\n",
    "\\begin{equation}\n",
    "   v_{pec} = c \\frac{(z_{obs} - z_{cos})}{(1+z)}  \n",
    "\\end{equation}\n",
    "    assumed $v_{pec}$ << c.\n",
    "\n",
    "Notes:\n",
    "1. From now on, z = $z_{cos}$\n",
    "\n",
    "2. For small v/c, or small distance d, in the expanding Universe, the velocity is linearly proportional to the distance.\n",
    "\\begin{equation}\n",
    "   z \\approx \\frac{v}{c} = \\frac{d}{D_H}\n",
    "\\end{equation}\n",
    "   Equation is only true for small redshifts!\n",
    "3. Many galaxy redshift surveys, when presenting redshifts as radial velocities, always use the non-relativistic approximation v = cz, even when it may not be physically appropriate.\n",
    "\n",
    "The cosmological redshift is directly related to the scale factor a(t), or the “size” of the Universe.\n",
    "\\begin{equation}\n",
    " 1+z_{12} = \\frac{a(t_1)}{a(t_2)} = \\frac{1+z_2}{1+z_1}\n",
    "\\end{equation}"
   ]
  },
  {
   "cell_type": "code",
   "execution_count": 6,
   "id": "e109a177",
   "metadata": {},
   "outputs": [],
   "source": [
    "\n",
    "#recession speed\n",
    "#v = H0 * d #where d is the distance in expanding universe\n",
    "\n",
    "#c=t_H =D_H =1\n",
    "\n",
    "#Redshift z & radial velocity v\n",
    "# 1+z = sqrt((1+ v/c)/(1- v/c))\n",
    "#Velocity to relativistic redshift\n",
    "def vel2z(v):\n",
    "    val = v / c\n",
    "    doppler_factor = np.sqrt((1 + val) / (1 - val))\n",
    "    return  (doppler_factor - 1)\n",
    "# For small v/c, or small distance d, the velocity is linearly proportional to the distance\n",
    "\n",
    "#value = cosmo.luminosity_distance(z)\n",
    "#print (value)\n",
    "\n",
    "#relativistic redshift to a velocity\n",
    "def z2v(z):\n",
    "    zp = (1 + z) ** 2\n",
    "    return (c * (zp - 1) / (zp + 1))\n",
    "\n",
    "#object’s measured redshift z_obs\n",
    "#cosmological redshift z_cos"
   ]
  },
  {
   "cell_type": "markdown",
   "id": "2a3124c3",
   "metadata": {},
   "source": [
    "**Comoving Distance (Line-of-sight)**\n",
    "\n",
    "A small comoving distance $\\delta DC$ between two nearby objects in the Universe is the distance between them which remains constant with epoch if the two objects are moving with the Hubble flow.\n",
    "\n",
    "The total line-of-sight comoving distance DC from us to a distant object is computed by integrating the infinitesimal $\\delta DC$ contributions between nearby events along the radial ray from z = 0 to the object.\n",
    "\n",
    "normalized Hubble expansion rate at reshift $z$:\n",
    "\\begin{equation}\n",
    "E(z) = \\sqrt{\\Omega_{m,0} (1+z)^3 + \\Omega_{\\kappa, 0} (1+z)^2 + \\Omega_{\\Lambda,0}}\n",
    "\\end{equation}\n",
    "\n",
    "Hubble constant at redshift z:\n",
    "\\begin{equation}\n",
    "H(z) = H_0 E(z)\n",
    "\\end{equation}\n",
    "\n",
    "The total line-of-sight comoving distance is\n",
    "\\begin{equation}\n",
    "DC = DH  \\int_{0}^{z} \\frac{dz'}{E(z')} \\,\n",
    "\\end{equation}\n"
   ]
  },
  {
   "cell_type": "code",
   "execution_count": 7,
   "id": "ab0e8c81",
   "metadata": {},
   "outputs": [],
   "source": [
    "def E_z(z, w=None):\n",
    "    if w is not None:\n",
    "        w = w\n",
    "        #print(w)\n",
    "    else:\n",
    "        w = -1.\n",
    "    zp1 = 1.0+z\n",
    "    return np.sqrt(Omega_m0*zp1**3.0 + Omega_k0*zp1**2.0 + Omega_Lambda0*(1+z)**(1.+w))\n",
    "\n",
    "def Ez(z):\n",
    "    zp1 = 1.0+z\n",
    "    return np.sqrt(Omega_m0*zp1**3.0 + Omega_k0*zp1**2.0 + Omega_Lambda0) # if w is not in cosmo\n",
    "\n",
    "def Hubble_Distance(z):\n",
    "    DH =  (c/(H0*E_z(z))).to(units.km) \n",
    "    #DH = D_H / E_z(z)\n",
    "    #print (H_z)\n",
    "    return DH\n",
    "\n",
    "#Computes the line of sight comoving distance from redshifts z0 to z\n",
    "def comovingDistance(z, z0 = 0, w=None):\n",
    "    if w is not None:\n",
    "        w = w\n",
    "        #print(w)\n",
    "    else:\n",
    "        w = -1.\n",
    "        #print (w)\n",
    "    #DC = D_H * si.quad(lambda z: (1/E_z(z)), z0, z)\n",
    "    DC = Hubble_Distance(0.) * si.quad(lambda z: (1/E_z(z)), z0, z)\n",
    "    #print (DC[0])\n",
    "    return DC[0].to(units.pc)\n",
    "\n"
   ]
  },
  {
   "cell_type": "markdown",
   "id": "b9f15a56",
   "metadata": {},
   "source": [
    "**Traverse Comoving distance**\n",
    "\n",
    "The comoving distance between two events at the same redshift or distance but separated on the sky by some angle $\\delta \\theta$ is DM $\\delta \\theta$ and the transverse comoving distance DM is simply related to the line-of-sight comoving distance DC:\n",
    "\n",
    "\n",
    "$D_M = \\left\\{\n",
    "\\begin{array}{ c l }\n",
    "D_H \\frac{1}{\\sqrt{\\lvert \\Omega_{\\kappa} \\lvert}} sinh \\left[\\sqrt{\\lvert \\Omega_{\\kappa} \\lvert} \\frac{D_C}{D_H} \\right] & \\quad for \\quad \\Omega_{\\kappa}>0,\\\\\n",
    "D_C & \\quad for \\quad \\Omega_{\\kappa}=0, \\\\\n",
    "D_H \\frac{1}{\\sqrt{\\lvert \\Omega_{\\kappa} \\lvert}} sin \\left[\\sqrt{\\lvert \\Omega_{\\kappa} \\lvert} \\frac{D_C}{D_H} \\right] & \\quad for \\quad \\Omega_{\\kappa}<0\n",
    "\\end{array}\n",
    "\\right.$\n",
    "\n",
    "where the trigonometric functions sinh and sin account for what is called “the curvature of space.\n",
    "\n",
    "For $\\Omega_{\\Lambda} = 0$, The solution is:\n",
    "\\begin{equation}\n",
    "D_M = D_H  \\frac{2 [ 2 - \\Omega_m (1-z) - (2 - \\Omega_m) \\sqrt{1 + \\Omega_m z} ] }{\\Omega_m^2 (1+z)}\n",
    "\\end{equation}\n"
   ]
  },
  {
   "cell_type": "code",
   "execution_count": 8,
   "id": "6f22cc27",
   "metadata": {},
   "outputs": [],
   "source": [
    "# Computes transverse comoving distance\n",
    "def traverse_comovingDistance(z):\n",
    "    #print(Omega_Lambda0)\n",
    "    DC = comovingDistance(z)\n",
    "    if(Omega_k0==0.0) :\n",
    "        return DC\n",
    "    sqrt_Omk0 = sqrt(np.abs(Omega_k0))\n",
    "    #angle = sqrt_Omk0 * DC/D_H\n",
    "    angle = sqrt_Omk0 * DC/Hubble_Distance(0)\n",
    "    #factor = D_H / sqrt_Omk0\n",
    "    factor = Hubble_Distance(0) / sqrt_Omk0\n",
    "    DM = 1.\n",
    "    if (Omega_k0 > 0.):\n",
    "        DM = factor * sinh(angle)\n",
    "    if (Omega_k0 < 0.):\n",
    "        DM = factor * sin(angle)\n",
    "    return DM"
   ]
  },
  {
   "cell_type": "code",
   "execution_count": 9,
   "id": "22bbc8d6",
   "metadata": {},
   "outputs": [
    {
     "name": "stdout",
     "output_type": "stream",
     "text": [
      "Comoving Distance 8247384688.539825 pc\n",
      "Traverse Comoving Distance 8247384688.539825 pc\n"
     ]
    }
   ],
   "source": [
    "print (\"Comoving Distance\", comovingDistance(6))\n",
    "print (\"Traverse Comoving Distance\", traverse_comovingDistance(6))"
   ]
  },
  {
   "cell_type": "code",
   "execution_count": 10,
   "id": "dbffa056",
   "metadata": {},
   "outputs": [],
   "source": [
    "# for Omega_Lambda0 = 0., Computes transverse comoving distance\n",
    "def proper_traverse_comovingDistance(z):\n",
    "    sqr_OmM0 = Omega_m0**2\n",
    "    reg = sqrt(1 + (Omega_m0*z))\n",
    "    numerator = 2 * (2 - (Omega_m0 * (1-z)) -((2-Omega_m0) * reg))\n",
    "    denominator = sqr_OmM0 * (1+z)\n",
    "    return (D_H * numerator/denominator).to(units.pc)\n"
   ]
  },
  {
   "cell_type": "code",
   "execution_count": 11,
   "id": "b6b3f121",
   "metadata": {},
   "outputs": [
    {
     "name": "stdout",
     "output_type": "stream",
     "text": [
      "Proper Traverse Comoving Distance 8910238506.077759 pc\n"
     ]
    }
   ],
   "source": [
    "print (\"Proper Traverse Comoving Distance\", proper_traverse_comovingDistance(6))"
   ]
  },
  {
   "cell_type": "code",
   "execution_count": 12,
   "id": "89fdc5c9",
   "metadata": {},
   "outputs": [
    {
     "name": "stdout",
     "output_type": "stream",
     "text": [
      "Dm/Dh:  3.835473369516019e-14 pc / km\n"
     ]
    },
    {
     "data": {
      "image/png": "[encoded data removed]",
      "text/plain": [
       "<Figure size 432x288 with 1 Axes>"
      ]
     },
     "metadata": {
      "needs_background": "light"
     },
     "output_type": "display_data"
    }
   ],
   "source": [
    "#z = [0, 1, 2, 3, 4, 5]\n",
    "z = np.linspace(0.,5,6)\n",
    "set_model(model = 'Einstein–de-Sitter')\n",
    "DH = Hubble_Distance(0)\n",
    "#Proper motion distance DM/D_H\n",
    "PD = []\n",
    "\"\"\"\n",
    "PD.append(traverse_comovingDistance(0)/D_H)\n",
    "PD.append(traverse_comovingDistance(1)/D_H)\n",
    "PD.append(traverse_comovingDistance(2)/D_H)\n",
    "PD.append(traverse_comovingDistance(3)/D_H)\n",
    "PD.append(traverse_comovingDistance(4)/D_H)\n",
    "PD.append(traverse_comovingDistance(5)/D_H)\n",
    "\"\"\"\n",
    "PD.append(traverse_comovingDistance(0)/DH)\n",
    "PD.append(traverse_comovingDistance(1)/DH)\n",
    "PD.append(traverse_comovingDistance(2)/DH)\n",
    "PD.append(traverse_comovingDistance(3)/DH)\n",
    "PD.append(traverse_comovingDistance(4)/DH)\n",
    "PD.append(traverse_comovingDistance(5)/DH)\n",
    "print ('Dm/Dh: ', PD[5])\n",
    "\n",
    "set_model(model = 'low-density')\n",
    "\n",
    "PD1 = []\n",
    "\"\"\"\n",
    "PD1.append(traverse_comovingDistance(0)/D_H)\n",
    "PD1.append(traverse_comovingDistance(1)/D_H)\n",
    "PD1.append(traverse_comovingDistance(2)/D_H)\n",
    "PD1.append(traverse_comovingDistance(3)/D_H)\n",
    "PD1.append(traverse_comovingDistance(4)/D_H)\n",
    "PD1.append(traverse_comovingDistance(5)/D_H)\n",
    "\"\"\"\n",
    "PD1.append(traverse_comovingDistance(0)/DH)\n",
    "PD1.append(traverse_comovingDistance(1)/DH)\n",
    "PD1.append(traverse_comovingDistance(2)/DH)\n",
    "PD1.append(traverse_comovingDistance(3)/DH)\n",
    "PD1.append(traverse_comovingDistance(4)/DH)\n",
    "PD1.append(traverse_comovingDistance(5)/DH)\n",
    "\n",
    "set_model(model = 'high-lambda')\n",
    "\n",
    "PD2 = []\n",
    "PD2.append(traverse_comovingDistance(0)/D_H)\n",
    "PD2.append(traverse_comovingDistance(1)/D_H)\n",
    "PD2.append(traverse_comovingDistance(2)/D_H)\n",
    "PD2.append(traverse_comovingDistance(3)/D_H)\n",
    "PD2.append(traverse_comovingDistance(4)/D_H)\n",
    "PD2.append(traverse_comovingDistance(5)/D_H)\n",
    "\n",
    "PD = np.array(PD)\n",
    "PD1 = np.array(PD1)\n",
    "PD2 = np.array(PD2)\n",
    "z = np.array(z)\n",
    "\n",
    "#Plotting z and DM\n",
    "plt.plot(z, PD, 'b-', linewidth=2)\n",
    "plt.plot(z, PD1, 'b--', linewidth=2)\n",
    "plt.plot(z, PD2, 'b', linewidth=2, linestyle='dotted')\n",
    "# naming the x axis\n",
    "plt.xlabel('Redshift z')\n",
    "# naming the y axis\n",
    "plt.ylabel('proper motion distance $D_M$ / $D_H$')\n",
    "plt.legend([\"Einstein–de-Sitter\", \"low-density\", \"high-lambda\"])\n",
    "# function to show the plot\n",
    "plt.show()"
   ]
  },
  {
   "cell_type": "markdown",
   "id": "4c5d5502",
   "metadata": {},
   "source": [
    "**Angular Diameter Distance**\n",
    "\n",
    "The angular diameter distance $D_A$ is defined as the ratio of an object’s physical transverse size to its angular size (in radians).\n",
    "\n",
    "\\begin{equation}\n",
    "D_A = \\frac{D_M}{(1+z)}\n",
    "\\end{equation}\n",
    "\n",
    "Angular diameter distance $D_{A_{12}}$ between two objects at redshifts $z_1$ and $z_2$, frequently used in gravitational lensing.\n",
    "\n",
    "It is not found by subtracting the two individual angular diameter distances! The correct formula (not correct for $\\Omega_k < 0$), for $\\Omega_k ≥ 0$, is\n",
    "\\begin{equation}\n",
    "D_{A_{12}} = \\frac{1}{(1+z_2)} [D_M2 \\sqrt{1 + \\Omega_k \\frac{D_M1^2}{D_H^2}} - D_M1 \\sqrt{1 + \\Omega_k \\frac{D_M2^2}{D_H^2}}]\n",
    "\\end{equation}\n",
    "\n",
    "where $D_{M1}$ and $D_{M2}$ are the transverse comoving distances to $z_1$ and $z_2$\n",
    "\n"
   ]
  },
  {
   "cell_type": "code",
   "execution_count": 13,
   "id": "65d74631",
   "metadata": {},
   "outputs": [],
   "source": [
    "def angular_diameter_distance(z, z0 = 0):\n",
    "    dm = traverse_comovingDistance(z)\n",
    "    if (z0 == 0):\n",
    "        return dm/(1+z)\n",
    "    dm_ = traverse_comovingDistance(z0)\n",
    "    dh = Hubble_Distance(0.)\n",
    "    #val1 = dm_ * sqrt(1. + Omega_k0 * (dm/D_H)**2.) \n",
    "    #val2 = dm * sqrt(1. + Omega_k0 * (dm/D_H)**2.)\n",
    "    val1 = dm_ * sqrt(1. + Omega_k0 * (dm/dh)**2.) \n",
    "    val2 = dm * sqrt(1. + Omega_k0 * (dm/dh)**2.)\n",
    "    DA = (val1-val2)/(1+z) # only true for Omega_k >= 0\n",
    "    return DA"
   ]
  },
  {
   "cell_type": "code",
   "execution_count": 14,
   "id": "c94cbb8e",
   "metadata": {},
   "outputs": [
    {
     "data": {
      "image/png": "[encoded data removed]",
      "text/plain": [
       "<Figure size 432x288 with 1 Axes>"
      ]
     },
     "metadata": {
      "needs_background": "light"
     },
     "output_type": "display_data"
    }
   ],
   "source": [
    "set_model(model = 'Einstein–de-Sitter')\n",
    "DH = Hubble_Distance(0)\n",
    "#Proper motion distance DM/D_H\n",
    "PD = []\n",
    "\"\"\"\n",
    "PD.append(angular_diameter_distance(0)/D_H)\n",
    "PD.append(angular_diameter_distance(1)/D_H)\n",
    "PD.append(angular_diameter_distance(2)/D_H)\n",
    "PD.append(angular_diameter_distance(3)/D_H)\n",
    "PD.append(angular_diameter_distance(4)/D_H)\n",
    "PD.append(angular_diameter_distance(5)/D_H)\n",
    "\"\"\"\n",
    "PD.append(angular_diameter_distance(0)/DH)\n",
    "PD.append(angular_diameter_distance(1)/DH)\n",
    "PD.append(angular_diameter_distance(2)/DH)\n",
    "PD.append(angular_diameter_distance(3)/DH)\n",
    "PD.append(angular_diameter_distance(4)/DH)\n",
    "PD.append(angular_diameter_distance(5)/DH)\n",
    "#print ('DA/Dh: ', PD[5])\n",
    "\n",
    "set_model(model = 'low-density')\n",
    "\n",
    "PD1 = []\n",
    "\"\"\"\n",
    "PD1.append(angular_diameter_distance(0)/D_H)\n",
    "PD1.append(angular_diameter_distance(1)/D_H)\n",
    "PD1.append(angular_diameter_distance(2)/D_H)\n",
    "PD1.append(angular_diameter_distance(3)/D_H)\n",
    "PD1.append(angular_diameter_distance(4)/D_H)\n",
    "PD1.append(angular_diameter_distance(5)/D_H)\n",
    "\"\"\"\n",
    "PD1.append(angular_diameter_distance(0)/DH)\n",
    "PD1.append(angular_diameter_distance(1)/DH)\n",
    "PD1.append(angular_diameter_distance(2)/DH)\n",
    "PD1.append(angular_diameter_distance(3)/DH)\n",
    "PD1.append(angular_diameter_distance(4)/DH)\n",
    "PD1.append(angular_diameter_distance(5)/DH)\n",
    "\n",
    "set_model(model = 'high-lambda')\n",
    "\n",
    "PD2 = []\n",
    "PD2.append(angular_diameter_distance(0)/DH)\n",
    "PD2.append(angular_diameter_distance(1)/DH)\n",
    "PD2.append(angular_diameter_distance(2)/DH)\n",
    "PD2.append(angular_diameter_distance(3)/DH)\n",
    "PD2.append(angular_diameter_distance(4)/DH)\n",
    "PD2.append(angular_diameter_distance(5)/DH)\n",
    "\n",
    "PD = np.array(PD)\n",
    "PD1 = np.array(PD1)\n",
    "PD2 = np.array(PD2)\n",
    "z = np.array(z)\n",
    "\n",
    "#Plotting z and DM\n",
    "plt.plot(z, PD, 'b-')\n",
    "plt.plot(z, PD1, 'b--')\n",
    "plt.plot(z, PD2, 'b-.')\n",
    "# naming the x axis\n",
    "plt.xlabel('Redshift z')\n",
    "# naming the y axis\n",
    "plt.ylabel('Angular diameter distance $D_A$ / $D_H$')\n",
    "plt.legend([\"Einstein–de-Sitter\", \"low-density\", \"high-lambda\"])\n",
    "# function to show the plot\n",
    "plt.show()"
   ]
  },
  {
   "cell_type": "markdown",
   "id": "fb19622a",
   "metadata": {},
   "source": [
    "**Luminosity Distance**\n",
    "\n",
    "The luminosity distance DL is defined by the relationship between bolometric (ie, integrated over all frequencies) flux S and bolometric luminosity L.\n",
    "\n",
    "\\begin{equation}\n",
    "D_L = \\sqrt{ \\frac{L}{4 \\pi S} } = (1+z)D_M = (1+z)^2 D_A\n",
    "\\end{equation}\n",
    "\n",
    "where $D_M$ is transverse comoving distance and $D_A$ is angular diameter distance.\n",
    "\n",
    "**Distance Modulus**\n",
    "\n",
    "\\begin{equation}\n",
    "D_M = 5 log ( \\frac{D_L}{10 pc} )\n",
    "\\end{equation}\n",
    "\n",
    "It is the magnitude difference between an object’s observed bolometric flux and what it would be if it were at 10 pc (this was once thought to be the distance to Vega).\n"
   ]
  },
  {
   "cell_type": "code",
   "execution_count": 15,
   "id": "89941103",
   "metadata": {},
   "outputs": [],
   "source": [
    "def luminosityDistance(z):\n",
    "    Da = angular_diameter_distance(z)\n",
    "    return Da * (1+z)**2\n"
   ]
  },
  {
   "cell_type": "code",
   "execution_count": 16,
   "id": "f757e450",
   "metadata": {},
   "outputs": [
    {
     "data": {
      "image/png": "[encoded data removed]",
      "text/plain": [
       "<Figure size 432x288 with 1 Axes>"
      ]
     },
     "metadata": {
      "needs_background": "light"
     },
     "output_type": "display_data"
    }
   ],
   "source": [
    "set_model(model = 'Einstein–de-Sitter')\n",
    "DH = Hubble_Distance(0)\n",
    "#Proper motion distance DM/D_H\n",
    "PD = []\n",
    "\n",
    "PD.append(luminosityDistance(0)/DH)\n",
    "PD.append(luminosityDistance(1)/DH)\n",
    "PD.append(luminosityDistance(2)/DH)\n",
    "PD.append(luminosityDistance(3)/DH)\n",
    "PD.append(luminosityDistance(4)/DH)\n",
    "PD.append(luminosityDistance(5)/DH)\n",
    "#print ('DA/Dh: ', PD[5])\n",
    "\n",
    "set_model(model = 'low-density')\n",
    "\n",
    "PD1 = []\n",
    "\n",
    "PD1.append(luminosityDistance(0)/DH)\n",
    "PD1.append(luminosityDistance(1)/DH)\n",
    "PD1.append(luminosityDistance(2)/DH)\n",
    "PD1.append(luminosityDistance(3)/DH)\n",
    "PD1.append(luminosityDistance(4)/DH)\n",
    "PD1.append(luminosityDistance(5)/DH)\n",
    "\n",
    "set_model(model = 'high-lambda')\n",
    "\n",
    "PD2 = []\n",
    "PD2.append(luminosityDistance(0)/DH)\n",
    "PD2.append(luminosityDistance(1)/DH)\n",
    "PD2.append(luminosityDistance(2)/DH)\n",
    "PD2.append(luminosityDistance(3)/DH)\n",
    "PD2.append(luminosityDistance(4)/DH)\n",
    "PD2.append(luminosityDistance(5)/DH)\n",
    "\n",
    "PD = np.array(PD)\n",
    "PD1 = np.array(PD1)\n",
    "PD2 = np.array(PD2)\n",
    "z = np.array(z)\n",
    "\n",
    "#Plotting z and DM\n",
    "plt.plot(z, PD, 'b-')\n",
    "plt.plot(z, PD1, 'b--')\n",
    "plt.plot(z, PD2, 'b-.')\n",
    "# naming the x axis\n",
    "plt.xlabel('Redshift z')\n",
    "# naming the y axis\n",
    "plt.ylabel('Luminosity distance $D_L$ / $D_H$')\n",
    "plt.legend([\"Einstein–de-Sitter\", \"low-density\", \"high-lambda\"])\n",
    "# function to show the plot\n",
    "plt.show()"
   ]
  },
  {
   "cell_type": "markdown",
   "id": "3d086a27",
   "metadata": {},
   "source": [
    "**Comoving Volume**\n",
    "\n",
    "The comoving volume $V_C$ is the volume measure in which number densities of non-evolving objects locked into Hubble flow are constant with redshift.\n",
    "\n",
    "\\begin{equation}\n",
    "dV_C = D_H \\frac{(1+z)^2 D_A^2}{E(z)} d\\Omega dz\n",
    "\\end{equation}\n",
    "\n",
    "where $D_A$ is the angular diameter distance at redshift z, $d\\Omega$ is solid angle and redshift interval $dz$.\n",
    "\n",
    "The integral of the comoving volume element from the present to redshift z gives the total comoving volume, all-sky, out to redshift z\n",
    "\n",
    "$V_C = \\left\\{\n",
    "\\begin{array}{ c l }\n",
    "(\\frac{4 \\pi D_H^3}{2 \\Omega_k}) \\left [\\frac{D_M}{D_H} \\sqrt{1 + \\Omega_k \\frac{D_M^2}{D_H^2}} - \\frac{1}{\\sqrt{\\lvert \\Omega_{\\kappa} \\lvert}} arcsinh (\\sqrt{\\lvert \\Omega_{\\kappa} \\lvert} \\frac{D_M}{D_H}) \\right] & \\quad for \\quad \\Omega_{\\kappa}>0,\\\\\n",
    "\\frac{4 \\pi }{3} D_M^3 & \\quad for \\quad \\Omega_{\\kappa}=0, \\\\\n",
    "(\\frac{4 \\pi D_H^3}{2 \\Omega_k}) \\left [\\frac{D_M}{D_H} \\sqrt{1 + \\Omega_k \\frac{D_M^2}{D_H^2}} - \\frac{1}{\\sqrt{\\lvert \\Omega_{\\kappa} \\lvert}} arcsin (\\sqrt{\\lvert \\Omega_{\\kappa} \\lvert} \\frac{D_M}{D_H}) \\right] & \\quad for \\quad \\Omega_{\\kappa}<0\n",
    "\\end{array}\n",
    "\\right.$\n",
    "\n",
    "$D_H^3$ is sometimes called the Hubble volum^."
   ]
  },
  {
   "cell_type": "code",
   "execution_count": 17,
   "id": "3274e6d2",
   "metadata": {},
   "outputs": [],
   "source": [
    "def diff_comovingVolume(z):\n",
    "    da = angular_diameter_distance(z)\n",
    "    ez = Ez(z)\n",
    "    dh = Hubble_Distance(0)\n",
    "    return dh* ((1+z)*da)**2 / ez\n",
    "\n",
    "def comovingVolume(z):\n",
    "    dm = traverse_comovingDistance(z)\n",
    "    flatV = 4. * np.pi * dm**3. / 3. # Omega_k0=0\n",
    "    if(Omega_k0==0.0) :\n",
    "        return flatV\n",
    "    sqrt_Omk0 = sqrt(np.abs(Omega_k0))\n",
    "    angle = sqrt_Omk0 * dm/Hubble_Distance(0)\n",
    "    reg1 = 4. * np.pi * Hubble_Distance(0)**3. / (2. * Omega_k0)\n",
    "    reg2 = (dm/Hubble_Distance(0))*np.sqrt(1. + Omega_k0 * (dm/Hubble_Distance(0))**2.)\n",
    "    Vc= 1.\n",
    "    if (Omega_k0 > 0.):\n",
    "        Vc = reg1 * (reg2 - asinh(angle))\n",
    "    if (Omega_k0 < 0.):\n",
    "        Vc = reg1 * (reg2 - asin(angle))\n",
    "    return Vc\n",
    "\n",
    "#print(comovingVolume(6))\n",
    "\n"
   ]
  },
  {
   "cell_type": "code",
   "execution_count": 18,
   "id": "2de4a857",
   "metadata": {},
   "outputs": [
    {
     "data": {
      "image/png": "[encoded data removed]",
      "text/plain": [
       "<Figure size 432x288 with 1 Axes>"
      ]
     },
     "metadata": {
      "needs_background": "light"
     },
     "output_type": "display_data"
    }
   ],
   "source": [
    "set_model(model = 'Einstein–de-Sitter')\n",
    "dh = Hubble_Distance(0)\n",
    "dh3 = dh**3\n",
    "PD = []\n",
    "\n",
    "PD.append(diff_comovingVolume(0.)/dh3)\n",
    "PD.append(diff_comovingVolume(1.)/dh3)\n",
    "PD.append(diff_comovingVolume(2.)/dh3)\n",
    "PD.append(diff_comovingVolume(3.)/dh3)\n",
    "PD.append(diff_comovingVolume(4.)/dh3)\n",
    "PD.append(diff_comovingVolume(5.)/dh3)\n",
    "\n",
    "set_model(model = 'low-density')\n",
    "PD1 = []\n",
    "\n",
    "PD1.append(diff_comovingVolume(0.)/dh3)\n",
    "PD1.append(diff_comovingVolume(1.)/dh3)\n",
    "PD1.append(diff_comovingVolume(2.)/dh3)\n",
    "PD1.append(diff_comovingVolume(3.)/dh3)\n",
    "PD1.append(diff_comovingVolume(4.)/dh3)\n",
    "PD1.append(diff_comovingVolume(5.)/dh3)\n",
    "\n",
    "set_model(model = 'high-lambda')\n",
    "\n",
    "PD2 = []\n",
    "\n",
    "PD2.append(diff_comovingVolume(0.)/dh3)\n",
    "PD2.append(diff_comovingVolume(1.)/dh3)\n",
    "PD2.append(diff_comovingVolume(2.)/dh3)\n",
    "PD2.append(diff_comovingVolume(3.)/dh3)\n",
    "PD2.append(diff_comovingVolume(4.)/dh3)\n",
    "PD2.append(diff_comovingVolume(5.)/dh3)\n",
    "\n",
    "\n",
    "PD = np.array(PD)\n",
    "PD1 = np.array(PD1)\n",
    "PD2 = np.array(PD2)\n",
    "z = np.array(z)\n",
    "\n",
    "#Plotting z and DM\n",
    "plt.plot(z, PD, 'b-')\n",
    "plt.plot(z, PD1, 'b--')\n",
    "plt.plot(z, PD2, 'b-.')\n",
    "# naming the x axis\n",
    "plt.xlabel('Redshift z')\n",
    "# naming the y axis\n",
    "plt.ylabel('comoving volume element $[ 1 / D_H^3] dV_c/dz/d\\Omega $')\n",
    "plt.legend([\"Einstein–de-Sitter\", \"low-density\", \"high-lambda\"])\n",
    "# function to show the plot\n",
    "plt.show()"
   ]
  },
  {
   "cell_type": "markdown",
   "id": "fa486b4e",
   "metadata": {},
   "source": [
    "**Lookback Time**\n",
    "\n",
    "The lookback time $t_L$ to an object is the difference between the age to of the Universe now (at observation) and the age te of the Universe at the time the photons were emitted (according to the object).\n",
    "It is used to predict properties of high-redshift objects with evolutionary models, such as passive stellar evolution for galaxies.\n",
    "\n",
    "\n",
    "\\begin{equation}\n",
    "t_l = t_H \\int_{0}^{z} \\frac{1}{(1+z') E(z')} \\,dz'\n",
    "\\end{equation}\n",
    "\n"
   ]
  },
  {
   "cell_type": "code",
   "execution_count": 19,
   "id": "189fcb14",
   "metadata": {},
   "outputs": [],
   "source": [
    "def lookbackTime(z, z0=0):\n",
    "    lt = t_H * si.quad(lambda z: (1/((1+z)*Ez(z))), z0, z)\n",
    "    #print('Ez: ', Ez(z))\n",
    "    #print('t_H: ', t_H)\n",
    "    #print('Look back time: ', lt)\n",
    "    return lt.to(units.s)\n",
    "\n",
    "#lookbackTime(1.)"
   ]
  },
  {
   "cell_type": "code",
   "execution_count": 20,
   "id": "c083b502",
   "metadata": {},
   "outputs": [
    {
     "data": {
      "image/png": "[encoded data removed]",
      "text/plain": [
       "<Figure size 432x288 with 1 Axes>"
      ]
     },
     "metadata": {
      "needs_background": "light"
     },
     "output_type": "display_data"
    }
   ],
   "source": [
    "set_model(model = 'Einstein–de-Sitter')\n",
    "\n",
    "PD = []\n",
    "\n",
    "PD.append(lookbackTime(0.)/t_H.to(units.s))\n",
    "PD.append(lookbackTime(1.)/t_H.to(units.s))\n",
    "PD.append(lookbackTime(2.)/t_H.to(units.s))\n",
    "PD.append(lookbackTime(3.)/t_H.to(units.s))\n",
    "PD.append(lookbackTime(4.)/t_H.to(units.s))\n",
    "PD.append(lookbackTime(5.)/t_H.to(units.s))\n",
    "\n",
    "set_model(model = 'low-density')\n",
    "PD1 = []\n",
    "\n",
    "PD1.append(lookbackTime(0.)/t_H.to(units.s))\n",
    "PD1.append(lookbackTime(1.)/t_H.to(units.s))\n",
    "PD1.append(lookbackTime(2.)/t_H.to(units.s))\n",
    "PD1.append(lookbackTime(3.)/t_H.to(units.s))\n",
    "PD1.append(lookbackTime(4.)/t_H.to(units.s))\n",
    "PD1.append(lookbackTime(5.)/t_H.to(units.s))\n",
    "\n",
    "set_model(model = 'high-lambda')\n",
    "\n",
    "PD2 = []\n",
    "\n",
    "PD2.append(lookbackTime(0.)/t_H.to(units.s))\n",
    "PD2.append(lookbackTime(1.)/t_H.to(units.s))\n",
    "PD2.append(lookbackTime(2.)/t_H.to(units.s))\n",
    "PD2.append(lookbackTime(3.)/t_H.to(units.s))\n",
    "PD2.append(lookbackTime(4.)/t_H.to(units.s))\n",
    "PD2.append(lookbackTime(5.)/t_H.to(units.s))\n",
    "\n",
    "\n",
    "PD = np.array(PD)\n",
    "PD1 = np.array(PD1)\n",
    "PD2 = np.array(PD2)\n",
    "z = np.array(z)\n",
    "\n",
    "#Plotting z and DM\n",
    "plt.plot(z, PD, 'b-')\n",
    "plt.plot(z, PD1, 'b--')\n",
    "plt.plot(z, PD2, 'b-.')\n",
    "# naming the x axis\n",
    "plt.xlabel('Redshift z')\n",
    "# naming the y axis\n",
    "plt.ylabel('lookback time $t_L / t_H$')\n",
    "plt.legend([\"Einstein–de-Sitter\", \"low-density\", \"high-lambda\"])\n",
    "# function to show the plot\n",
    "plt.show()"
   ]
  },
  {
   "cell_type": "markdown",
   "id": "b7f22162",
   "metadata": {},
   "source": [
    "**Probability of intersecting objects**\n",
    "\n",
    "The incremental probability $dP$ that a line of sight will intersect one of the objects in redshift interval $dz$ at redshift z is \n",
    "\n",
    "\n",
    "\\begin{equation}\n",
    "dP = n(z) \\sigma(z) D_H \\frac{(1+z)^2}{E(z)} dz\n",
    "\\end{equation}"
   ]
  },
  {
   "cell_type": "code",
   "execution_count": null,
   "id": "6ce244aa",
   "metadata": {},
   "outputs": [],
   "source": []
  }
 ],
 "metadata": {
  "kernelspec": {
   "display_name": "Python 3 (ipykernel)",
   "language": "python",
   "name": "python3"
  },
  "language_info": {
   "codemirror_mode": {
    "name": "ipython",
    "version": 3
   },
   "file_extension": ".py",
   "mimetype": "text/x-python",
   "name": "python",
   "nbconvert_exporter": "python",
   "pygments_lexer": "ipython3",
   "version": "3.9.5"
  }
 },
 "nbformat": 4,
 "nbformat_minor": 5
}
